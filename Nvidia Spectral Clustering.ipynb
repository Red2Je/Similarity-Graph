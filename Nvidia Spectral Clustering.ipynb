{
 "cells": [
  {
   "cell_type": "code",
   "execution_count": 58,
   "metadata": {},
   "outputs": [],
   "source": [
    "#Le spectral clustering de Nvidia est un spectral clustering en utilisant la matrice laplacienne Lrw"
   ]
  },
  {
   "cell_type": "code",
   "execution_count": 59,
   "metadata": {},
   "outputs": [],
   "source": [
    "using Random\n",
    "using KrylovKit"
   ]
  },
  {
   "cell_type": "code",
   "execution_count": 60,
   "metadata": {
    "scrolled": true
   },
   "outputs": [
    {
     "data": {
      "text/plain": [
       "25×25 Matrix{Int64}:\n",
       "  6  15  24  24   3  18  19   2  14  …   8  14   2   5   1   2   2   5   8\n",
       "  5   4  16  11   4   9  15   8   2     21  24   3   4  13   5  18   6  12\n",
       "  4   5   4  12  15   2  21   7  20     16  21   6  24  11  24  22   9   6\n",
       " 12   3  16  11   8  11  11   5  11     16  24   3  19   1  10  20  22  10\n",
       " 11   6  17   5   5  11   5   2  15     18  19   1  22  22   3  14  25  24\n",
       "  3   2  25  10  25  15  16  22  12  …   8  25  24  14  21  14   1  13  22\n",
       "  4  18   9  16  23  15   2   2  16     19   6  15   6   6  21  16   6  21\n",
       "  5  19   2   9  22   3  13   4  20     24  19  19  20   4  24  14   8   2\n",
       " 11  24  18   4   4  11  13  24  13     11   3  12  24  10   2  17  21   7\n",
       " 17  20   9  11   8   4  25  11  15     10   5  21  22  17   9  14  15  17\n",
       "  7  11  16   3  13  15   3  21  17  …   1   2   3  12  13   4  25   8   1\n",
       "  1   9   3  11  22  16   4  25  14      2  20  10   5   2  10   6   4  20\n",
       "  5  19   3   1  12  12   5   2  13     15   7  23  13  14   6   9  14  11\n",
       "  6  18   9  19  18  25   2   9  14      8  15   4  17  17   8  11  21  21\n",
       "  9   8   3  14   4  20   1  18   9      3  25  11   8   1   6   9  16   3\n",
       " 24  19  16  17  22  25  21  18  19  …   5  25   3   7  15  11  18  14   5\n",
       " 10   9  18   9  15  25   3  22   7     20  24   8  13   1   5  25  23  13\n",
       "  2   2  11   8  19  22   4   8   6      3  20  10  19  23   2   4  19   5\n",
       " 23  23  13  21  24  24   8   8  12     20   1  19   7  10  17   6  10  19\n",
       " 15  16  11   9  11   4   2  23   2     25  11  17  17  24   3  22  15  10\n",
       " 18  24  13  16  21   5  22   8  20  …  19   9  13   1   3  21  17   3  22\n",
       " 21  16  10  22  11   5  16  15   8      4   6   5  11  21  19   9  21  11\n",
       " 11  12   7   7  15  11   9  18   9     21   6   4  12  16   8  16  23   7\n",
       " 19  18   6  23  11  11  19  22  12      1  15  23  23  25  10  16   9   6\n",
       "  2   7  23   9  12   9   5  14   7     14  16  21  24  10   5  16   2  23"
      ]
     },
     "execution_count": 60,
     "metadata": {},
     "output_type": "execute_result"
    }
   ],
   "source": [
    "n=25\n",
    "X = Random.rand(1:25,n,n)\n",
    "#X = Xb'.*Xb"
   ]
  },
  {
   "cell_type": "code",
   "execution_count": 61,
   "metadata": {},
   "outputs": [
    {
     "data": {
      "text/plain": [
       "createD (generic function with 1 method)"
      ]
     },
     "execution_count": 61,
     "metadata": {},
     "output_type": "execute_result"
    }
   ],
   "source": [
    "function createD(W)\n",
    "    lines,column = size(W)\n",
    "    output = zeros(Float64,size(W))\n",
    "    for i = 1:lines\n",
    "        sum = 0\n",
    "        for j = 1:column\n",
    "            sum += W[i,j]\n",
    "        end\n",
    "        output[i,i] = sum\n",
    "    end\n",
    "    return output\n",
    "end"
   ]
  },
  {
   "cell_type": "code",
   "execution_count": 62,
   "metadata": {},
   "outputs": [
    {
     "data": {
      "text/plain": [
       "euclideanDistance (generic function with 1 method)"
      ]
     },
     "execution_count": 62,
     "metadata": {},
     "output_type": "execute_result"
    }
   ],
   "source": [
    "function euclideanDistance(p,c)\n",
    "    sum = 0\n",
    "    for (index,coord) = enumerate(p) \n",
    "        sum += (coord-c[index])^2\n",
    "    end\n",
    "    return(sqrt(sum))\n",
    "end"
   ]
  },
  {
   "cell_type": "code",
   "execution_count": 63,
   "metadata": {},
   "outputs": [
    {
     "data": {
      "text/plain": [
       "constructFully (generic function with 1 method)"
      ]
     },
     "execution_count": 63,
     "metadata": {},
     "output_type": "execute_result"
    }
   ],
   "source": [
    "#Cette fonction construit la matrice de similarité entièrement connnectée. Sigma est la taille du voisinage autorisé\n",
    "#On utilisera la fonction de similarité gaussienne\n",
    "function constructFully(X,sigma)\n",
    "    lines,column = size(X)\n",
    "    S = zeros(Float64,lines,column)\n",
    "    for i = 1 : lines\n",
    "        for j = 1 : column\n",
    "            S[i,j] = exp(-euclideanDistance(X[i],X[j])^2/(2*sigma^2))\n",
    "        end\n",
    "    end\n",
    "    return S\n",
    "end\n",
    "                \n",
    "            "
   ]
  },
  {
   "cell_type": "code",
   "execution_count": 66,
   "metadata": {},
   "outputs": [
    {
     "data": {
      "text/plain": [
       "3-element Vector{Vector{ComplexF64}}:\n",
       " [-0.19999999999999998 + 0.0im, -0.19999999999999996 + 0.0im, -0.19999999999999993 + 0.0im, -0.19999999999999993 + 0.0im, -0.1999999999999999 + 0.0im, -0.1999999999999999 + 0.0im, -0.2000000000000001 + 0.0im, -0.20000000000000007 + 0.0im, -0.19999999999999998 + 0.0im, -0.20000000000000012 + 0.0im  …  -0.19999999999999987 + 0.0im, -0.2 + 0.0im, -0.19999999999999987 + 0.0im, -0.19999999999999996 + 0.0im, -0.19999999999999996 + 0.0im, -0.19999999999999998 + 0.0im, -0.2 + 0.0im, -0.19999999999999993 + 0.0im, -0.19999999999999996 + 0.0im, -0.19999999999999987 + 0.0im]\n",
       " [0.39538170111352544 + 0.0im, -0.12868507773385066 + 0.0im, 0.1437883183396267 + 0.0im, 0.3124711746878325 + 0.0im, -0.07034634346894819 + 0.0im, -0.004544447062046837 + 0.0im, 0.08892013625310642 + 0.0im, -0.058420273291297856 + 0.0im, -0.10281838959996417 + 0.0im, -0.00212232129155435 + 0.0im  …  0.09589066950337184 + 0.0im, 0.09405263187244318 + 0.0im, 0.11627710821687201 + 0.0im, -0.043245523520157335 + 0.0im, 0.10376865199466782 + 0.0im, 0.028757626651624475 + 0.0im, 0.22413682992873485 + 0.0im, 0.12903031306979407 + 0.0im, 0.09699566881486398 + 0.0im, -0.1833708543438848 + 0.0im]\n",
       " [-0.20900295564751167 + 0.40121477642978404im, 0.0295179732585707 + 0.07656846053910044im, -0.004677136694088353 - 0.0835591905986723im, -0.012062309447558185 - 0.11679863193745302im, 0.004370145849816172 - 0.05518876012564614im, 0.08734700387083312 - 0.033296663000339934im, 0.09326300141522388 - 0.18702556724793365im, -0.010384719193869458 - 0.05198206862817394im, -0.052582276803930704 - 0.04593048037027906im, -0.08029519823662246 - 0.04114097238896357im  …  0.014019301455548595 + 0.06389007744919645im, 0.01909979620089205 - 0.056918845945080634im, 0.1771393550872808 + 0.39207554565918573im, -0.023722095965557417 + 0.025689780585248876im, -0.051480710384062 - 0.11080077375105367im, 0.05179880531101949 - 0.049730217541958im, -0.010196896215868138 - 0.17218165304216593im, -0.05175659283020718 - 0.28927240726972725im, -0.04523681636035532 - 0.050275820469109674im, 0.22672511958149943 - 0.0687013527498668im]"
      ]
     },
     "execution_count": 66,
     "metadata": {},
     "output_type": "execute_result"
    }
   ],
   "source": [
    "function partioning(X,k)\n",
    "    S = constructFully(X,3)\n",
    "    #On prendra B = D\n",
    "    B = createD(X)\n",
    "    L = B-X\n",
    "    (eigval,eigvecs,info) = eigsolve(L,k,:SR)\n",
    "    eigval = eigval[1:k]\n",
    "    for i =1:length(eigval)\n",
    "        eigval[i] = eigval[i]/B[i,i]\n",
    "    end\n",
    "    return eigvecs[1:k]\n",
    "end\n",
    "partioning(X,3)"
   ]
  },
  {
   "cell_type": "code",
   "execution_count": null,
   "metadata": {},
   "outputs": [],
   "source": []
  }
 ],
 "metadata": {
  "kernelspec": {
   "display_name": "Julia 1.6.1",
   "language": "julia",
   "name": "julia-1.6"
  },
  "language_info": {
   "file_extension": ".jl",
   "mimetype": "application/julia",
   "name": "julia",
   "version": "1.6.1"
  }
 },
 "nbformat": 4,
 "nbformat_minor": 2
}
