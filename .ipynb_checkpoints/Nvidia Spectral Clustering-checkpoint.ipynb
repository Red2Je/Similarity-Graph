{
 "cells": [
  {
   "cell_type": "code",
   "execution_count": 1,
   "metadata": {},
   "outputs": [],
   "source": [
    "#Le spectral clustering de Nvidia est un spectral clustering en utilisant la matrice laplacienne Lrw"
   ]
  },
  {
   "cell_type": "code",
   "execution_count": 3,
   "metadata": {},
   "outputs": [],
   "source": [
    "using Random"
   ]
  },
  {
   "cell_type": "code",
   "execution_count": 11,
   "metadata": {
    "scrolled": true
   },
   "outputs": [
    {
     "data": {
      "text/plain": [
       "25×25 Matrix{Int64}:\n",
       "  1   1  25  23   9   3  19   3  22  …   3  15   5   6  15  24  15  18   6\n",
       " 13  16   4  24  24   5   2   3  24     21   3  22  20  14  13  14  10  15\n",
       " 21   6  14   4  23  22  23  16  10     14  12   1   6  22  10  10  16  11\n",
       "  3  24  20   5  11   1  11   3  20     22  25  12  15  11  17   3   7   6\n",
       "  4  12  15   6  21  20   2  20   7     13  19   5  16  25  20   6   4  22\n",
       " 22  11  24  10  15  23  11  17  15  …  17   8  21  14  23  25   1  13  12\n",
       " 17  18   2   6   7  25  21  12   7      6   5  12  21  25  18  21  11  15\n",
       "  1  23   6   9  19  17  16  11   9      7  11  20  18   9  12  23  19   9\n",
       " 24   6  10  19  23  12   5  19  23      5   6  19  22   6  19  25   7  13\n",
       "  6   1  24  14  16  23  18  15  21     15  15  19   2   2   2  11  20  21\n",
       " 17  18   9   1   4   7   3  22  14  …   1  15   8  20   3   2   4   5  13\n",
       " 19  20   7  21  12   5  13  13  10     21  18  23  17  11   3  18  23  17\n",
       " 25  17   1  12  12   2  18  23   1      8  18   2  20  10  19  23   7  19\n",
       "  9   2  24  10   2  13  20   5   1      2  22   6   3  20   8  10   7  15\n",
       " 22   4   9  12  25  15   5  16   8     22  18  25   3  23  24  14  13  22\n",
       " 16  12   3  13  19   4   6  22  19  …   6  21   3  19  13  16   8   8  22\n",
       "  5   1   9   7  23  12  15  25  19     13  25  22   3   3   3  23  11  17\n",
       " 23   8   3  19   7  11   9   9  22     15  19  21  25   3  25   7  17   6\n",
       " 17   8   6   1   8   6   6  25  22     11  22  15  17  17  11  20   1   2\n",
       " 14   1  22   4  16  17   2   6   1     12  18  13  15  12  24   9   5   4\n",
       " 14  14  23  25   8   6  17   7  11  …  25  16   8  18  18  10  11  12  10\n",
       " 14   2  20  22  25  18   8  17  11     15   4   9  15   6   6  18  20   6\n",
       " 22  23  23  13  18  11  19   5  24      8   8  25  15  16  13  15   1  22\n",
       " 21  21  16  16  24  12  11  23  11      3  20  24   1   7   5   5  14  23\n",
       "  6  13  21  16   8  23  17   7   9      6  19   6  11  17   6  22  18   3"
      ]
     },
     "execution_count": 11,
     "metadata": {},
     "output_type": "execute_result"
    }
   ],
   "source": [
    "n=25\n",
    "X = Random.rand(1:25,n,n)\n",
    "#X = Xb'.*Xb"
   ]
  },
  {
   "cell_type": "code",
   "execution_count": 6,
   "metadata": {},
   "outputs": [
    {
     "data": {
      "text/plain": [
       "createD (generic function with 1 method)"
      ]
     },
     "execution_count": 6,
     "metadata": {},
     "output_type": "execute_result"
    }
   ],
   "source": [
    "function createD(W)\n",
    "    lines,column = size(W)\n",
    "    output = zeros(Float64,size(W))\n",
    "    for i = 1:lines\n",
    "        sum = 0\n",
    "        for j = 1:column\n",
    "            sum += W[i,j]\n",
    "        end\n",
    "        output[i,i] = sum\n",
    "    end\n",
    "    return output\n",
    "end"
   ]
  },
  {
   "cell_type": "code",
   "execution_count": 7,
   "metadata": {},
   "outputs": [
    {
     "data": {
      "text/plain": [
       "euclideanDistance (generic function with 1 method)"
      ]
     },
     "execution_count": 7,
     "metadata": {},
     "output_type": "execute_result"
    }
   ],
   "source": [
    "function euclideanDistance(p,c)\n",
    "    sum = 0\n",
    "    for (index,coord) = enumerate(p) \n",
    "        sum += (coord-c[index])^2\n",
    "    end\n",
    "    return(sqrt(sum))\n",
    "end"
   ]
  },
  {
   "cell_type": "code",
   "execution_count": 40,
   "metadata": {},
   "outputs": [
    {
     "data": {
      "text/plain": [
       "constructFully (generic function with 1 method)"
      ]
     },
     "execution_count": 40,
     "metadata": {},
     "output_type": "execute_result"
    }
   ],
   "source": [
    "#Cette fonction construit la matrice de similarité entièrement connnectée. Sigma est la taille du voisinage autorisé\n",
    "#On utilisera la fonction de similarité gaussienne\n",
    "function constructFully(X,sigma)\n",
    "    lines,column = size(X)\n",
    "    S = zeros(Float64,lines,column)\n",
    "    for i = 1 : lines\n",
    "        for j = 1 : column\n",
    "            S[i,j] = exp(-euclideanDistance(X[i],X[j])^2/(2*sigma^2))\n",
    "        end\n",
    "    end\n",
    "    return S\n",
    "end\n",
    "                \n",
    "            "
   ]
  },
  {
   "cell_type": "code",
   "execution_count": 43,
   "metadata": {},
   "outputs": [
    {
     "data": {
      "text/plain": [
       "25×25 Matrix{Float64}:\n",
       " 1.0          0.000335463  2.23363e-10  …  2.23363e-10  0.249352\n",
       " 0.000335463  1.0          0.0285655       0.0285655    0.0657285\n",
       " 2.23363e-10  0.0285655    1.0             1.0          3.72665e-6\n",
       " 0.800737     0.00386592   1.523e-8        1.523e-8     0.606531\n",
       " 0.606531     0.011109     1.06454e-7      1.06454e-7   0.800737\n",
       " 2.28973e-11  0.011109     0.945959     …  0.945959     6.65836e-7\n",
       " 6.65836e-7   0.411112     0.411112        0.411112     0.00120386\n",
       " 1.0          0.000335463  2.23363e-10     2.23363e-10  0.249352\n",
       " 1.72412e-13  0.00120386   0.606531        0.606531     1.523e-8\n",
       " 0.249352     0.0657285    3.72665e-6      3.72665e-6   1.0\n",
       " 6.65836e-7   0.411112     0.411112     …  0.411112     0.00120386\n",
       " 1.523e-8     0.135335     0.800737        0.800737     8.36483e-5\n",
       " 1.26642e-14  0.000335463  0.411112        0.411112     1.94977e-9\n",
       " 0.0285655    0.411112     0.000335463     0.000335463  0.606531\n",
       " 2.28973e-11  0.011109     0.945959        0.945959     6.65836e-7\n",
       " 3.72665e-6   0.606531     0.249352     …  0.249352     0.00386592\n",
       " 0.411112     0.0285655    6.65836e-7      6.65836e-7   0.945959\n",
       " 2.10041e-12  0.00386592   0.800737        0.800737     1.06454e-7\n",
       " 6.65836e-7   0.411112     0.411112        0.411112     0.00120386\n",
       " 8.36483e-5   0.945959     0.0657285       0.0657285    0.0285655\n",
       " 8.36483e-5   0.945959     0.0657285    …  0.0657285    0.0285655\n",
       " 8.36483e-5   0.945959     0.0657285       0.0657285    0.0285655\n",
       " 2.28973e-11  0.011109     0.945959        0.945959     6.65836e-7\n",
       " 2.23363e-10  0.0285655    1.0             1.0          3.72665e-6\n",
       " 0.249352     0.0657285    3.72665e-6      3.72665e-6   1.0"
      ]
     },
     "execution_count": 43,
     "metadata": {},
     "output_type": "execute_result"
    }
   ],
   "source": [
    "constructFully(X,3)"
   ]
  },
  {
   "cell_type": "code",
   "execution_count": null,
   "metadata": {},
   "outputs": [],
   "source": []
  }
 ],
 "metadata": {
  "kernelspec": {
   "display_name": "Julia 1.6.1",
   "language": "julia",
   "name": "julia-1.6"
  },
  "language_info": {
   "file_extension": ".jl",
   "mimetype": "application/julia",
   "name": "julia",
   "version": "1.6.1"
  }
 },
 "nbformat": 4,
 "nbformat_minor": 2
}
