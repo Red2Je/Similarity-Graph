{
 "cells": [
  {
   "cell_type": "code",
   "execution_count": 1,
   "metadata": {},
   "outputs": [],
   "source": [
    "using LightGraphs\n",
    "#using GraphPlot\n",
    "using SimpleWeightedGraphs\n",
    "using Plots\n",
    "using GraphRecipes\n",
    "using Random\n",
    "using KrylovKit\n",
    "using LinearAlgebra\n",
    "using Clustering\n",
    "using Images"
   ]
  },
  {
   "cell_type": "code",
   "execution_count": 2,
   "metadata": {},
   "outputs": [
    {
     "data": {
      "text/plain": [
       "constructEpsilon (generic function with 1 method)"
      ]
     },
     "execution_count": 2,
     "metadata": {},
     "output_type": "execute_result"
    }
   ],
   "source": [
    "function constructEpsilon(X, epsilon)\n",
    "    lines,column = size(X)\n",
    "    output = zeros(Float64,size(X))\n",
    "    for i = 1:lines\n",
    "        for j = 1:column\n",
    "            if X[i,j] > epsilon\n",
    "                output[i,j] = 0\n",
    "            else\n",
    "                output[i,j] = X[i,j]\n",
    "            end\n",
    "        end\n",
    "    end\n",
    "    return output\n",
    "end"
   ]
  },
  {
   "cell_type": "code",
   "execution_count": 23,
   "metadata": {},
   "outputs": [
    {
     "data": {
      "text/plain": [
       "\"println(S)\\nW = constructEpsilon(S,2)\\nprintln(W)\\n\""
      ]
     },
     "execution_count": 23,
     "metadata": {},
     "output_type": "execute_result"
    }
   ],
   "source": [
    "n=5000\n",
    "Xb = Random.rand(1:4,n,n)\n",
    "\n",
    "X = Xb'.*Xb\n",
    "#println(X)\n",
    "\"\"\"\n",
    "println(S)\n",
    "W = constructEpsilon(S,2)\n",
    "println(W)\n",
    "\"\"\""
   ]
  },
  {
   "cell_type": "code",
   "execution_count": 4,
   "metadata": {},
   "outputs": [
    {
     "data": {
      "text/plain": [
       "\"g = SimpleWeightedGraph(W)\\nprintln(length(g))\\n#print(collect(vertices(g)))\\ngraphplot(g, curves=false)\\n#println(g.weights)\\n#gplot(g)\""
      ]
     },
     "execution_count": 4,
     "metadata": {},
     "output_type": "execute_result"
    }
   ],
   "source": [
    "\"\"\"g = SimpleWeightedGraph(W)\n",
    "println(length(g))\n",
    "#print(collect(vertices(g)))\n",
    "graphplot(g, curves=false)\n",
    "#println(g.weights)\n",
    "#gplot(g)\"\"\""
   ]
  },
  {
   "cell_type": "code",
   "execution_count": 5,
   "metadata": {},
   "outputs": [
    {
     "data": {
      "text/plain": [
       "createD (generic function with 1 method)"
      ]
     },
     "execution_count": 5,
     "metadata": {},
     "output_type": "execute_result"
    }
   ],
   "source": [
    "function createD(W)\n",
    "    lines,column = size(W)\n",
    "    output = zeros(Float64,size(W))\n",
    "    for i = 1:lines\n",
    "        sum = 0\n",
    "        for j = 1:column\n",
    "            sum += W[i,j]\n",
    "        end\n",
    "        output[i,i] = sum\n",
    "    end\n",
    "    return output\n",
    "end"
   ]
  },
  {
   "cell_type": "code",
   "execution_count": 6,
   "metadata": {
    "scrolled": true
   },
   "outputs": [
    {
     "data": {
      "text/plain": [
       "euclideanDistance (generic function with 1 method)"
      ]
     },
     "execution_count": 6,
     "metadata": {},
     "output_type": "execute_result"
    }
   ],
   "source": [
    "function euclideanDistance(p,c)\n",
    "    sum = 0\n",
    "    for (index,coord) = enumerate(p) \n",
    "        sum += (coord-c[index])^2\n",
    "    end\n",
    "    return(sqrt(sum))\n",
    "end"
   ]
  },
  {
   "cell_type": "code",
   "execution_count": 24,
   "metadata": {},
   "outputs": [
    {
     "data": {
      "text/plain": [
       "unnormalizedSpectralClustering (generic function with 1 method)"
      ]
     },
     "execution_count": 24,
     "metadata": {},
     "output_type": "execute_result"
    }
   ],
   "source": [
    "function unnormalizedSpectralClustering(X,k)\n",
    "    W = constructEpsilon(X,5)\n",
    "    D = createD(W)\n",
    "    L = D-W\n",
    "    (eigval,eigvecs,info)= eigsolve(L,k, :SR)#si plus de k valeurs ont convergées en même temps, eigval contient toutes les valeurs\n",
    "    eigval = eigval[1:k]#la première valeur est très proche de 0 par rapport aux autres. On supposera donc qu'elle vaut 0\n",
    "    eigvecs = eigvecs[1:k]#le premier vecteur propre devrait être rempli de 1. Ici, d'autres calculs problématiques font que ce n'est pas le cas. on ignorera cette valeur jusqu'à prouver que l'on ne peut pas l'ignorer\n",
    "    U = zeros(length(eigvecs[1]))\n",
    "    for v in eigvecs\n",
    "        U = hcat(U,v)\n",
    "    end\n",
    "    U = U[1:end,2:k+1]#on enlève la première colonne qui vient de l'initialisation de la matrice U\n",
    "    cluster = kmeans(U,k)\n",
    "    output = zeros(size(U)[1])\n",
    "    for point = 1:size(U)[1]\n",
    "        yj = U[point,:]\n",
    "        centerDistance = zeros(k)\n",
    "        for index = 1:k\n",
    "            center = cluster.centers[index,:]\n",
    "            centerDistance[index] = euclideanDistance(yj,center)\n",
    "            index +=1\n",
    "        end\n",
    "        output[point] = argmin(centerDistance)\n",
    "    end\n",
    "    return output,cluster.centers,W,L\n",
    "end"
   ]
  },
  {
   "cell_type": "code",
   "execution_count": 33,
   "metadata": {},
   "outputs": [
    {
     "name": "stdout",
     "output_type": "stream",
     "text": [
      " 12.875554 seconds (500.78 k allocations: 768.741 MiB, 0.52% gc time)\n"
     ]
    },
    {
     "data": {
      "text/plain": [
       "5000×30 Matrix{Float64}:\n",
       " 0.0141421   0.00745066  -0.00222561   …   0.00454821   -0.00047682\n",
       " 0.0141421  -0.00214819  -0.000667152      0.000602087  -0.00202983\n",
       " 0.0141421  -0.00308462   0.00866876       0.0161639    -0.00183528\n",
       " 0.0141421  -0.0033676    0.0010358       -0.00921191    0.00149369\n",
       " 0.0141421  -0.00359866  -0.00711711       0.0111845     0.00386612\n",
       " 0.0141421   0.00242884  -0.00173718   …   0.0270009    -0.0142396\n",
       " 0.0141421   0.00405206   0.00612406       0.00158612   -0.00183002\n",
       " 0.0141421   0.0043831   -0.00532715       0.00830973    0.00108234\n",
       " 0.0141421   0.00310714   0.00486772       0.0125869     0.00128267\n",
       " 0.0141421  -0.0050669   -0.00217261       0.018138     -0.00223922\n",
       " 0.0141421   0.00611895   0.00153191   …   0.0156403     0.00628897\n",
       " 0.0141421   0.00254162  -0.00131457      -0.00627954    0.0125258\n",
       " 0.0141421   0.0113059   -0.00625214      -0.0117559     0.00298816\n",
       " ⋮                                     ⋱                \n",
       " 0.0141421  -0.00402798   0.00831032      -0.00595117   -0.000168006\n",
       " 0.0141421  -0.00288035  -0.00551819       0.00852409   -0.00576161\n",
       " 0.0141421  -0.00417681  -0.00817752   …  -0.0148005    -0.00454039\n",
       " 0.0141421  -0.00712465   0.00148612       0.00420641   -0.00427968\n",
       " 0.0141421   0.00155893  -0.00566126      -0.0111797     0.00331052\n",
       " 0.0141421  -0.00291827  -0.00568631      -0.00226075   -0.00276116\n",
       " 0.0141421  -0.00138806  -0.0015269        0.00429776   -0.00446076\n",
       " 0.0141421   0.00256666  -0.00530806   …   0.000774847  -0.0021315\n",
       " 0.0141421  -0.00262775   0.00570409       0.0093223     0.00167282\n",
       " 0.0141421   0.00378009  -0.00486199      -0.0162879    -0.00502725\n",
       " 0.0141421   0.00404848   0.001756         0.0202045     0.00698818\n",
       " 0.0141421  -0.00277064  -0.00218966      -0.00167342   -0.0038206"
      ]
     },
     "execution_count": 33,
     "metadata": {},
     "output_type": "execute_result"
    }
   ],
   "source": [
    "@time cluster = unnormalizedSpectralClustering(X,30)\n",
    "clustering=cluster[1]\n",
    "W = cluster[3]\n",
    "L = cluster[4]\n",
    "g = SimpleWeightedGraph(W)\n",
    "center = cluster[2]"
   ]
  },
  {
   "cell_type": "code",
   "execution_count": null,
   "metadata": {},
   "outputs": [],
   "source": [
    "graphplot(g,markersize = 0.2)\n"
   ]
  },
  {
   "cell_type": "code",
   "execution_count": null,
   "metadata": {},
   "outputs": [],
   "source": [
    "L"
   ]
  },
  {
   "cell_type": "code",
   "execution_count": null,
   "metadata": {
    "scrolled": true
   },
   "outputs": [],
   "source": [
    "W"
   ]
  },
  {
   "cell_type": "code",
   "execution_count": 28,
   "metadata": {},
   "outputs": [
    {
     "data": {
      "text/plain": [
       "30×5000 Matrix{Float64}:\n",
       " 7142.61  7149.64  7146.63  7291.64  …  7035.62  7228.63  7035.62  7365.63\n",
       " 7142.6   7149.64  7146.64  7291.65     7035.62  7228.63  7035.62  7365.63\n",
       " 7142.61  7149.64  7146.63  7291.64     7035.61  7228.64  7035.62  7365.63\n",
       " 7142.61  7149.63  7146.63  7291.64     7035.61  7228.63  7035.61  7365.63\n",
       " 7142.62  7149.64  7146.63  7291.64     7035.62  7228.64  7035.63  7365.63\n",
       " 7142.62  7149.64  7146.64  7291.64  …  7035.61  7228.64  7035.62  7365.63\n",
       " 7142.61  7149.63  7146.63  7291.64     7035.61  7228.64  7035.62  7365.63\n",
       " 7142.62  7149.63  7146.63  7291.65     7035.61  7228.64  7035.63  7365.63\n",
       " 7142.61  7149.64  7146.63  7291.65     7035.61  7228.63  7035.62  7365.63\n",
       " 7142.61  7149.63  7146.63  7291.64     7035.62  7228.63  7035.63  7365.63\n",
       " 7142.6   7149.64  7146.63  7291.65  …  7035.6   7228.63  7035.61  7365.63\n",
       " 7142.61  7149.64  7146.64  7291.64     7035.61  7228.63  7035.62  7365.63\n",
       " 7142.61  7149.63  7146.64  7291.65     7035.61  7228.64  7035.63  7365.63\n",
       "    ⋮                                ⋱                             \n",
       " 7142.61  7149.63  7146.63  7291.64     7035.62  7228.63  7035.63  7365.63\n",
       " 7142.62  7149.64  7146.64  7291.64     7035.61  7228.63  7035.62  7365.63\n",
       " 7142.62  7149.64  7146.63  7291.64  …  7035.62  7228.64  7035.61  7365.63\n",
       " 7142.61  7149.63  7146.63  7291.65     7035.62  7228.63  7035.65  7365.63\n",
       " 7142.62  7149.64  7146.63  7291.65     7035.63  7228.63  7035.62  7365.63\n",
       " 7142.62  7149.65  7146.64  7291.64     7035.6   7228.63  7035.63  7365.63\n",
       " 7142.61  7149.63  7146.63  7291.65     7035.61  7228.64  7035.62  7365.63\n",
       " 7142.61  7149.63  7146.63  7291.64  …  7035.64  7228.63  7035.63  7365.63\n",
       " 7142.61  7149.64  7146.62  7291.64     7035.62  7228.63  7035.62  7365.63\n",
       " 7142.58  7149.64  7146.63  7291.64     7035.62  7228.62  7035.62  7365.63\n",
       " 7142.62  7149.64  7146.64  7291.65     7035.61  7228.63  7035.63  7365.63\n",
       " 7142.61  7149.64  7146.63  7291.65     7035.62  7228.63  7035.63  7365.63"
      ]
     },
     "execution_count": 28,
     "metadata": {},
     "output_type": "execute_result"
    }
   ],
   "source": [
    "output = zeros(size(center)[2],size(W)[2])\n",
    "for i in range(1,size(center)[2],step=1)\n",
    "    for j in range(1,size(L)[2],step=1)\n",
    "        output[i,j] = euclideanDistance(L[:,j],center[:,i])\n",
    "    end\n",
    "end\n",
    "output"
   ]
  },
  {
   "cell_type": "code",
   "execution_count": 13,
   "metadata": {},
   "outputs": [],
   "source": [
    "### version k means"
   ]
  },
  {
   "cell_type": "code",
   "execution_count": 35,
   "metadata": {},
   "outputs": [
    {
     "name": "stdout",
     "output_type": "stream",
     "text": [
      "  3.496939 seconds (95 allocations: 2.830 MiB)\n"
     ]
    },
    {
     "data": {
      "text/plain": [
       "5000×30 Matrix{Float64}:\n",
       " 6.01961  5.75     5.71781  6.13546  …  5.94872   4.83333  6.56552  6.04854\n",
       " 6.56863  8.33333  6.68219  6.16135     6.4413    5.33333  6.0069   7.06796\n",
       " 7.11765  5.58333  6.2274   6.61952     6.47368   7.83333  6.48276  6.18447\n",
       " 7.13725  5.5      5.98904  6.56773     5.94872   7.83333  5.87586  6.31068\n",
       " 6.90196  5.75     5.99452  6.33267     6.21727   4.5      6.78621  5.94175\n",
       " 6.64706  3.66667  5.97534  6.25299  …  6.04993   6.83333  6.42759  6.0\n",
       " 6.17647  6.25     6.09589  6.4761      6.63293   7.83333  6.14483  6.23301\n",
       " 5.90196  4.66667  5.99452  6.37849     6.21188   3.5      6.13103  6.15534\n",
       " 6.78431  7.0      5.98904  6.06972     6.18219   5.33333  6.62069  5.59223\n",
       " 6.4902   4.58333  6.52603  6.23108     6.03644   6.0      6.93103  5.90291\n",
       " 5.88235  7.91667  6.15068  6.11554  …  6.09312   6.33333  6.7931   6.60194\n",
       " 5.98039  6.83333  6.25479  6.09163     6.278     4.83333  6.35862  6.03883\n",
       " 6.17647  5.33333  6.6411   6.53785     6.1525    6.0      6.51034  6.71845\n",
       " ⋮                                   ⋱                              \n",
       " 6.45098  5.16667  6.05753  6.55378     6.48178   6.5      7.04138  8.01942\n",
       " 6.0      5.91667  6.16164  6.37649     6.16059   6.33333  5.71034  6.94175\n",
       " 6.33333  8.58333  6.35342  6.23705  …  6.12551   6.16667  6.64828  6.61165\n",
       " 6.03922  7.16667  6.30685  6.71116     6.27665   6.33333  5.82069  5.65049\n",
       " 6.05882  6.75     6.58904  6.09163     6.53981  10.0      5.95862  6.63107\n",
       " 5.64706  6.08333  6.20548  6.13147     5.89069   8.66667  6.75172  5.95146\n",
       " 5.60784  4.33333  6.20548  6.26892     6.13225   9.83333  6.13103  6.78641\n",
       " 6.5098   5.0      6.14521  6.73904  …  5.88529   6.16667  6.02069  5.42718\n",
       " 5.5098   6.66667  6.09315  6.79482     6.21727   3.5      6.36552  6.04854\n",
       " 6.96078  6.5      6.34795  6.34462     6.37652   8.33333  6.54483  5.69903\n",
       " 6.64706  5.75     6.18356  6.06972     6.59244   6.16667  6.55862  5.56311\n",
       " 5.39216  6.25     6.41644  6.68127     6.09582   4.33333  6.21379  5.95146"
      ]
     },
     "execution_count": 35,
     "metadata": {},
     "output_type": "execute_result"
    }
   ],
   "source": [
    "@time km = kmeans(X,30)\n",
    "kcenters = km.centers"
   ]
  },
  {
   "cell_type": "code",
   "execution_count": 32,
   "metadata": {},
   "outputs": [
    {
     "data": {
      "text/plain": [
       "30×5000 Matrix{Float64}:\n",
       " 289.215  297.262  295.752  289.614  …  295.735  290.741  294.306  297.194\n",
       " 293.018  301.771  299.098  294.291     300.888  294.647  299.524  301.949\n",
       " 300.411  305.851  305.243  299.339     306.837  299.357  303.855  305.802\n",
       " 293.133  301.062  298.976  292.741     298.662  292.855  297.57   299.8\n",
       " 289.515  297.6    295.155  289.256     295.495  290.505  294.754  297.059\n",
       " 290.658  298.392  296.03   290.774  …  296.847  291.746  295.788  297.847\n",
       " 289.894  297.89   295.665  289.872     296.376  291.493  294.955  297.472\n",
       " 300.697  306.459  303.065  298.104     304.339  300.078  304.421  306.615\n",
       " 290.895  298.274  296.56   287.51      296.823  291.822  294.718  297.961\n",
       " 290.366  297.799  295.993  290.411     296.291  290.995  295.705  297.016\n",
       " 291.148  300.05   297.489  290.582  …  297.652  292.589  296.899  298.108\n",
       " 290.49   297.918  296.354  289.918     296.455  292.168  295.816  297.968\n",
       " 291.042  298.471  296.767  291.128     292.92   291.72   296.217  298.371\n",
       "   ⋮                                 ⋱                             \n",
       " 288.156  298.112  295.686  289.383     295.55   290.824  295.08   297.496\n",
       " 291.032  298.258  297.207  291.456     296.649  292.042  296.531  298.606\n",
       " 289.822  297.592  293.854  289.958  …  295.951  291.512  294.788  297.596\n",
       " 320.221  329.512  324.519  321.039     323.452  321.191  325.209  326.154\n",
       " 338.471  345.079  342.996  338.996     344.228  337.096  341.001  342.806\n",
       " 290.491  299.099  296.423  291.134     298.513  292.811  296.476  298.455\n",
       " 290.059  298.71   296.762  290.123     296.467  292.313  295.66   297.899\n",
       " 291.713  299.882  297.384  292.383  …  298.279  293.948  297.345  299.909\n",
       " 291.383  299.608  296.728  290.427     296.968  293.21   295.44   299.455\n",
       " 297.336  303.136  303.329  297.675     302.505  300.441  303.489  304.495\n",
       " 289.276  296.877  294.824  289.273     295.358  290.139  294.373  296.727\n",
       " 290.407  298.324  296.302  289.678     296.622  291.368  295.414  298.399"
      ]
     },
     "execution_count": 32,
     "metadata": {},
     "output_type": "execute_result"
    }
   ],
   "source": [
    "output = zeros(size(center)[2],size(X)[2])\n",
    "for i in range(1,size(center)[2],step=1)\n",
    "    for j in range(1,size(X)[2],step=1)\n",
    "        output[i,j] = euclideanDistance(X[:,j],kcenters[:,i])\n",
    "    end\n",
    "end\n",
    "output"
   ]
  },
  {
   "cell_type": "code",
   "execution_count": null,
   "metadata": {},
   "outputs": [],
   "source": []
  },
  {
   "cell_type": "code",
   "execution_count": null,
   "metadata": {},
   "outputs": [],
   "source": []
  },
  {
   "cell_type": "code",
   "execution_count": null,
   "metadata": {},
   "outputs": [],
   "source": []
  },
  {
   "cell_type": "code",
   "execution_count": null,
   "metadata": {},
   "outputs": [],
   "source": []
  },
  {
   "cell_type": "code",
   "execution_count": null,
   "metadata": {},
   "outputs": [],
   "source": []
  }
 ],
 "metadata": {
  "kernelspec": {
   "display_name": "Julia 1.6.1",
   "language": "julia",
   "name": "julia-1.6"
  },
  "language_info": {
   "file_extension": ".jl",
   "mimetype": "application/julia",
   "name": "julia",
   "version": "1.6.1"
  }
 },
 "nbformat": 4,
 "nbformat_minor": 2
}
