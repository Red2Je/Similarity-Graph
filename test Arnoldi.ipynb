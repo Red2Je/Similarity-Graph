{
 "cells": [
  {
   "cell_type": "code",
   "execution_count": 239,
   "metadata": {},
   "outputs": [],
   "source": [
    "using LinearAlgebra\n",
    "#Rayleigh Ritz"
   ]
  },
  {
   "cell_type": "code",
   "execution_count": 240,
   "metadata": {},
   "outputs": [
    {
     "data": {
      "text/plain": [
       "3×3 Matrix{Int64}:\n",
       " 2  0  0\n",
       " 0  2  1\n",
       " 0  1  2"
      ]
     },
     "execution_count": 240,
     "metadata": {},
     "output_type": "execute_result"
    }
   ],
   "source": [
    "A = [2 0 0 ; 0 2 1 ; 0 1 2]"
   ]
  },
  {
   "cell_type": "code",
   "execution_count": 241,
   "metadata": {},
   "outputs": [
    {
     "data": {
      "text/plain": [
       "3-element Vector{Float64}:\n",
       " 1.0\n",
       " 2.0\n",
       " 3.0"
      ]
     },
     "execution_count": 241,
     "metadata": {},
     "output_type": "execute_result"
    }
   ],
   "source": [
    "eigvals(A)"
   ]
  },
  {
   "cell_type": "code",
   "execution_count": 242,
   "metadata": {},
   "outputs": [
    {
     "data": {
      "text/plain": [
       "3×3 Matrix{Float64}:\n",
       "  0.0       1.0  0.0\n",
       "  0.707107  0.0  0.707107\n",
       " -0.707107  0.0  0.707107"
      ]
     },
     "execution_count": 242,
     "metadata": {},
     "output_type": "execute_result"
    }
   ],
   "source": [
    "eigvecs(A)"
   ]
  },
  {
   "cell_type": "code",
   "execution_count": 243,
   "metadata": {},
   "outputs": [
    {
     "data": {
      "text/plain": [
       "gs (generic function with 1 method)"
      ]
     },
     "execution_count": 243,
     "metadata": {},
     "output_type": "execute_result"
    }
   ],
   "source": [
    "function gs(M)\n",
    "    output = zeros(size(M))\n",
    "    output[:,1] = M[:,1]/norm(M[:,1])\n",
    "    sumv = 0\n",
    "    for i = 2 : size(M,1)\n",
    "        sum = zeros(size(M[:,1],1))\n",
    "        vi = M[:,i]\n",
    "        for q = 1 : i\n",
    "            sum += dot(vi,output[:,q])*output[:,q]\n",
    "        end\n",
    "        output[:,i] = (vi - sum)/norm(vi-sum)\n",
    "    end\n",
    "    return(output)\n",
    "end"
   ]
  },
  {
   "cell_type": "code",
   "execution_count": 244,
   "metadata": {},
   "outputs": [
    {
     "data": {
      "text/plain": [
       "3×3 Matrix{Float64}:\n",
       " 1.0  0.0        0.0\n",
       " 0.0  0.894427  -0.447214\n",
       " 0.0  0.447214   0.894427"
      ]
     },
     "execution_count": 244,
     "metadata": {},
     "output_type": "execute_result"
    }
   ],
   "source": [
    "V = gs(A)"
   ]
  },
  {
   "cell_type": "code",
   "execution_count": 245,
   "metadata": {},
   "outputs": [
    {
     "data": {
      "text/plain": [
       "3×3 Matrix{Float64}:\n",
       "  0.0       1.0   0.0\n",
       "  0.316228  0.0  -0.948683\n",
       " -0.948683  0.0  -0.316228"
      ]
     },
     "execution_count": 245,
     "metadata": {},
     "output_type": "execute_result"
    }
   ],
   "source": [
    "vv = V'*A*V\n",
    "val = eigvals(vv)\n",
    "vecs = eigvecs(vv)"
   ]
  },
  {
   "cell_type": "code",
   "execution_count": 246,
   "metadata": {},
   "outputs": [
    {
     "data": {
      "text/plain": [
       "3×3 Matrix{Float64}:\n",
       " 2.0  0.0  0.0\n",
       " 0.0  2.8  0.6\n",
       " 0.0  0.6  1.2"
      ]
     },
     "execution_count": 246,
     "metadata": {},
     "output_type": "execute_result"
    }
   ],
   "source": [
    "vv"
   ]
  },
  {
   "cell_type": "code",
   "execution_count": 247,
   "metadata": {
    "scrolled": true
   },
   "outputs": [
    {
     "data": {
      "text/plain": [
       "3-element Vector{Float64}:\n",
       " 1.0\n",
       " 2.0\n",
       " 3.0"
      ]
     },
     "execution_count": 247,
     "metadata": {},
     "output_type": "execute_result"
    }
   ],
   "source": [
    "val"
   ]
  },
  {
   "cell_type": "code",
   "execution_count": 248,
   "metadata": {},
   "outputs": [
    {
     "data": {
      "text/plain": [
       "3×3 Matrix{Float64}:\n",
       "  0.0       1.0   0.0\n",
       "  0.707107  0.0  -0.707107\n",
       " -0.707107  0.0  -0.707107"
      ]
     },
     "execution_count": 248,
     "metadata": {},
     "output_type": "execute_result"
    }
   ],
   "source": [
    "x = V*vecs"
   ]
  },
  {
   "cell_type": "code",
   "execution_count": 249,
   "metadata": {},
   "outputs": [
    {
     "data": {
      "text/plain": [
       "0.0"
      ]
     },
     "execution_count": 249,
     "metadata": {},
     "output_type": "execute_result"
    }
   ],
   "source": [
    "norm(A*x[:,1]-val[1]*x[:,1])"
   ]
  },
  {
   "cell_type": "code",
   "execution_count": 305,
   "metadata": {},
   "outputs": [
    {
     "data": {
      "text/plain": [
       "([0.019992004796802236 -0.0007998400478816579 -0.9997998199640288 0.0; 0.9996002398401118 -0.019980004396083467 0.020003997998428277 0.0; 0.019992004796802236 0.9998000598520838 -0.0004000799599701817 0.0], [2.039968025579536 0.9990009392765756 -1.0498270005057653e-13; 0.9990009392765744 1.9600479808179012 0.02000799199546945; 0.0 0.020007991995520193 1.999983993602563; 0.0 0.0 1.0335577617271202e-13])"
      ]
     },
     "execution_count": 305,
     "metadata": {},
     "output_type": "execute_result"
    }
   ],
   "source": [
    "function arnoldi_iteration(A,b,n)\n",
    "    #Crée l'espace de Krylov de taille n+1 (b, Ab, ..., A^nb)\n",
    "    #Renvoie : Q la base hortonormale\n",
    "    #h la matrice A dans cette base\n",
    "    m = size(A,1)\n",
    "    h = zeros(n+1,n)\n",
    "    Q = zeros(m,n+1)\n",
    "    q = b/norm(b)\n",
    "    Q[:,1] = q\n",
    "    \n",
    "    for k=1:n\n",
    "        v = A*q\n",
    "        for j=1:k+1\n",
    "            h[j,k] = dot(conj(Q[:,j]),v)\n",
    "            v = v - h[j,k] * Q[:,j]\n",
    "        end\n",
    "        h[k+1,k] = norm(v)\n",
    "        eps = 1e-12\n",
    "        if h[k+1,k] > eps\n",
    "            q = v / h[k+1,k]\n",
    "            Q[:,k+1] = q\n",
    "        else\n",
    "            return Q,h\n",
    "        end\n",
    "    end\n",
    "    return Q,h\n",
    "end\n",
    "Q,h = arnoldi_iteration(A,rand([1,50],size(A,1)),size(A,1))"
   ]
  },
  {
   "cell_type": "code",
   "execution_count": 306,
   "metadata": {},
   "outputs": [
    {
     "data": {
      "text/plain": [
       "3×4 Matrix{Float64}:\n",
       " 0.019992  -0.00079984  -0.9998      0.0\n",
       " 0.9996    -0.01998      0.020004    0.0\n",
       " 0.019992   0.9998      -0.00040008  0.0"
      ]
     },
     "execution_count": 306,
     "metadata": {},
     "output_type": "execute_result"
    }
   ],
   "source": [
    "Q"
   ]
  },
  {
   "cell_type": "code",
   "execution_count": 307,
   "metadata": {},
   "outputs": [
    {
     "data": {
      "text/plain": [
       "4×3 Matrix{Float64}:\n",
       " 2.03997   0.999001  -1.04983e-13\n",
       " 0.999001  1.96005    0.020008\n",
       " 0.0       0.020008   1.99998\n",
       " 0.0       0.0        1.03356e-13"
      ]
     },
     "execution_count": 307,
     "metadata": {},
     "output_type": "execute_result"
    }
   ],
   "source": [
    "h"
   ]
  },
  {
   "cell_type": "code",
   "execution_count": 308,
   "metadata": {},
   "outputs": [
    {
     "data": {
      "text/plain": [
       "3×3 Matrix{Float64}:\n",
       " 2.03997   0.999001  -1.04983e-13\n",
       " 0.999001  1.96005    0.020008\n",
       " 0.0       0.020008   1.99998"
      ]
     },
     "execution_count": 308,
     "metadata": {},
     "output_type": "execute_result"
    }
   ],
   "source": [
    "hm = h[1:size(h,2),:]"
   ]
  },
  {
   "cell_type": "code",
   "execution_count": 309,
   "metadata": {},
   "outputs": [
    {
     "data": {
      "text/plain": [
       "3×3 Matrix{Float64}:\n",
       " 2.03997   0.999001  0.0\n",
       " 0.999001  1.96005   0.020008\n",
       " 0.0       0.020008  1.99998"
      ]
     },
     "execution_count": 309,
     "metadata": {},
     "output_type": "execute_result"
    }
   ],
   "source": [
    "function computeTresholdZero(M)\n",
    "    lines,column = size(M)\n",
    "    tol = 1e-12\n",
    "    for i = 1:lines\n",
    "        for j = 1:column\n",
    "            if(M[i,j]<=tol)\n",
    "                M[i,j] = 0\n",
    "            end\n",
    "        end\n",
    "    end\n",
    "    return M\n",
    "end\n",
    "hm = computeTresholdZero(hm)"
   ]
  },
  {
   "cell_type": "code",
   "execution_count": 310,
   "metadata": {
    "scrolled": true
   },
   "outputs": [
    {
     "data": {
      "text/plain": [
       "3-element Vector{Float64}:\n",
       " 1.0000000000000004\n",
       " 1.9999999999999998\n",
       " 3.0"
      ]
     },
     "execution_count": 310,
     "metadata": {},
     "output_type": "execute_result"
    }
   ],
   "source": [
    "eigvals(hm)"
   ]
  },
  {
   "cell_type": "code",
   "execution_count": 311,
   "metadata": {},
   "outputs": [
    {
     "data": {
      "text/plain": [
       "LinearAlgebra.QRCompactWY{Float64, Matrix{Float64}}\n",
       "Q factor:\n",
       "3×3 LinearAlgebra.QRCompactWYQ{Float64, Matrix{Float64}}:\n",
       " -0.898092   0.439758    0.00666094\n",
       " -0.439808  -0.897989   -0.0136017\n",
       "  0.0       -0.0151451   0.999885\n",
       "R factor:\n",
       "3×3 Matrix{Float64}:\n",
       " -2.27145  -1.75924  -0.00879968\n",
       "  0.0      -1.32109  -0.0482569\n",
       "  0.0       0.0       1.99948"
      ]
     },
     "execution_count": 311,
     "metadata": {},
     "output_type": "execute_result"
    }
   ],
   "source": [
    "q, r = qr(hm)"
   ]
  },
  {
   "cell_type": "code",
   "execution_count": 341,
   "metadata": {},
   "outputs": [
    {
     "data": {
      "text/plain": [
       "checkConv (generic function with 1 method)"
      ]
     },
     "execution_count": 341,
     "metadata": {},
     "output_type": "execute_result"
    }
   ],
   "source": [
    "function checkConv(C)\n",
    "    tol = 1e-12\n",
    "    converge = false\n",
    "    convergence = tr(C) - size(C,1)\n",
    "    if( convergence <= tol)\n",
    "        converge = true\n",
    "    end\n",
    "    return converge\n",
    "end"
   ]
  },
  {
   "cell_type": "code",
   "execution_count": 342,
   "metadata": {},
   "outputs": [
    {
     "data": {
      "text/plain": [
       "qrConv (generic function with 1 method)"
      ]
     },
     "execution_count": 342,
     "metadata": {},
     "output_type": "execute_result"
    }
   ],
   "source": [
    "function qrConv(h)\n",
    "    q1,r1 = qr(h)\n",
    "    A1 = r1*q1\n",
    "    q2,r2 = qr(A1)\n",
    "    A2 = r2*q2\n",
    "    C = A2/A1    \n",
    "    while(!checkConv(C))\n",
    "        A1 = deepcopy(A2)\n",
    "        q2,r2 = qr(A2)\n",
    "        A2 = r2*q2\n",
    "        C = A2/A1\n",
    "    end\n",
    "    return q2,r2\n",
    "end"
   ]
  },
  {
   "cell_type": "code",
   "execution_count": 343,
   "metadata": {
    "scrolled": true
   },
   "outputs": [
    {
     "data": {
      "text/plain": [
       "([-0.9999999999999869 1.6268951801407436e-7 -4.1998209129051256e-14; -1.6268951801407976e-7 -0.9999999999999534 2.5814944712919987e-7; 0.0 2.581494471292033e-7 0.9999999999999667], [-2.999999999999803 -8.134475549400279e-7 8.243437471977943e-14; 0.0 -1.9999999999999325 7.744483049402881e-7; 0.0 0.0 1.0000000000001013])"
      ]
     },
     "execution_count": 343,
     "metadata": {},
     "output_type": "execute_result"
    }
   ],
   "source": [
    "q,r = qrConv(hm)"
   ]
  },
  {
   "cell_type": "code",
   "execution_count": 344,
   "metadata": {},
   "outputs": [
    {
     "data": {
      "text/plain": [
       "3×3 LinearAlgebra.QRCompactWYQ{Float64, Matrix{Float64}}:\n",
       " -1.0         1.6269e-7   -4.19982e-14\n",
       " -1.6269e-7  -1.0          2.58149e-7\n",
       "  0.0         2.58149e-7   1.0"
      ]
     },
     "execution_count": 344,
     "metadata": {},
     "output_type": "execute_result"
    }
   ],
   "source": [
    "q"
   ]
  },
  {
   "cell_type": "code",
   "execution_count": 345,
   "metadata": {},
   "outputs": [
    {
     "data": {
      "text/plain": [
       "3×3 Matrix{Float64}:\n",
       " -3.0  -8.13448e-7  8.24344e-14\n",
       "  0.0  -2.0         7.74448e-7\n",
       "  0.0   0.0         1.0"
      ]
     },
     "execution_count": 345,
     "metadata": {},
     "output_type": "execute_result"
    }
   ],
   "source": [
    "r"
   ]
  },
  {
   "cell_type": "code",
   "execution_count": 346,
   "metadata": {},
   "outputs": [
    {
     "data": {
      "text/plain": [
       "([-0.9971844109685981 0.0721204632301087 -0.020539944125635697; -0.07498833590105664 -0.9590478409840941 0.2731373064642357; 0.0 0.27390852028957047 0.9617557499244691], [2.039968025579536, 1.9600479808179012, 1.9999839936025627, 0.0], [50.0199960015992, 0.9990009392765744, 0.020007991995520193, 9.396988593091173e-15])"
      ]
     },
     "execution_count": 346,
     "metadata": {},
     "output_type": "execute_result"
    }
   ],
   "source": [
    "function lanczos(A,b,n)\n",
    "    m = size(A,1)\n",
    "    q0 = zeros(m)\n",
    "    beta = zeros(m+1)\n",
    "    alpha = zeros(m+1)\n",
    "    beta[1] = norm(b)\n",
    "    for j = 1:m\n",
    "        q1 = b/beta[j]\n",
    "        u = A*q1-beta[j]*q0\n",
    "        alpha[j] = u'*q1\n",
    "        b = u-alpha[j]*q1\n",
    "        beta[j+1] = norm(b)\n",
    "        q0 = deepcopy(q1)\n",
    "    end\n",
    "    return q1,alpha,beta\n",
    "        \n",
    "end\n",
    "q,alpha,beta = lanczos(A,rand([1,50],size(A,1)),size(A,1))"
   ]
  },
  {
   "cell_type": "code",
   "execution_count": 347,
   "metadata": {},
   "outputs": [
    {
     "data": {
      "text/plain": [
       "3×3 LinearAlgebra.QRCompactWYQ{Float64, Matrix{Float64}}:\n",
       " -0.997184    0.0721205  -0.0205399\n",
       " -0.0749883  -0.959048    0.273137\n",
       "  0.0         0.273909    0.961756"
      ]
     },
     "execution_count": 347,
     "metadata": {},
     "output_type": "execute_result"
    }
   ],
   "source": [
    "q"
   ]
  },
  {
   "cell_type": "code",
   "execution_count": 358,
   "metadata": {},
   "outputs": [
    {
     "data": {
      "text/plain": [
       "3×3 Matrix{Float64}:\n",
       " 1.0  0.0  0.0\n",
       " 0.0  1.0  0.0\n",
       " 0.0  0.0  1.0"
      ]
     },
     "execution_count": 358,
     "metadata": {},
     "output_type": "execute_result"
    }
   ],
   "source": [
    "computeTresholdZero(q'q)"
   ]
  },
  {
   "cell_type": "code",
   "execution_count": 348,
   "metadata": {
    "scrolled": false
   },
   "outputs": [
    {
     "data": {
      "text/plain": [
       "4-element Vector{Float64}:\n",
       " 2.039968025579536\n",
       " 1.9600479808179012\n",
       " 1.9999839936025627\n",
       " 0.0"
      ]
     },
     "execution_count": 348,
     "metadata": {},
     "output_type": "execute_result"
    }
   ],
   "source": [
    "alpha"
   ]
  },
  {
   "cell_type": "code",
   "execution_count": 349,
   "metadata": {},
   "outputs": [
    {
     "data": {
      "text/plain": [
       "4-element Vector{Float64}:\n",
       " 50.0199960015992\n",
       "  0.9990009392765744\n",
       "  0.020007991995520193\n",
       "  9.396988593091173e-15"
      ]
     },
     "execution_count": 349,
     "metadata": {},
     "output_type": "execute_result"
    }
   ],
   "source": [
    "beta"
   ]
  },
  {
   "cell_type": "code",
   "execution_count": 350,
   "metadata": {},
   "outputs": [
    {
     "data": {
      "text/plain": [
       "4-element Vector{Real}:\n",
       " 50.0199960015992\n",
       "  0.9990009392765744\n",
       "  0.020007991995520193\n",
       "  0"
      ]
     },
     "execution_count": 350,
     "metadata": {},
     "output_type": "execute_result"
    }
   ],
   "source": [
    "beta = [i>1e-12 ? i : 0 for i in beta]"
   ]
  },
  {
   "cell_type": "code",
   "execution_count": 351,
   "metadata": {},
   "outputs": [
    {
     "data": {
      "text/plain": [
       "3×3 Matrix{Float64}:\n",
       " 2.03997   0.999001  0.0\n",
       " 0.999001  1.96005   0.020008\n",
       " 0.0       0.020008  1.99998"
      ]
     },
     "execution_count": 351,
     "metadata": {},
     "output_type": "execute_result"
    }
   ],
   "source": [
    "H = zeros(length(alpha),length(beta))\n",
    "for i =1:length(alpha)\n",
    "    H[i,i] = alpha[i]\n",
    "    if(i < length(alpha))\n",
    "        H[i,i+1] = beta[i+1]\n",
    "        H[i+1,i] = beta[i+1]\n",
    "    end\n",
    "end\n",
    "H = H[1:size(H,1)-1,1:size(H,2)-1]"
   ]
  },
  {
   "cell_type": "code",
   "execution_count": 352,
   "metadata": {},
   "outputs": [
    {
     "data": {
      "text/plain": [
       "3×3 Matrix{Float64}:\n",
       " 2.03997   0.999001  0.0\n",
       " 0.999001  1.96005   0.020008\n",
       " 0.0       0.020008  1.99998"
      ]
     },
     "execution_count": 352,
     "metadata": {},
     "output_type": "execute_result"
    }
   ],
   "source": [
    "hm"
   ]
  },
  {
   "cell_type": "code",
   "execution_count": 353,
   "metadata": {},
   "outputs": [
    {
     "data": {
      "text/plain": [
       "([-0.9999999999999869 1.6268951801407404e-7 -4.1998209129050776e-14; -1.6268951801407944e-7 -0.9999999999999534 2.5814944712919743e-7; 0.0 2.5814944712920087e-7 0.9999999999999667], [-2.999999999999803 -8.134475900416424e-7 8.467094227974713e-14; 0.0 -1.9999999999999323 7.744483410814633e-7; 0.0 0.0 1.0000000000001008])"
      ]
     },
     "execution_count": 353,
     "metadata": {},
     "output_type": "execute_result"
    }
   ],
   "source": [
    "q,r = qrConv(H)"
   ]
  },
  {
   "cell_type": "code",
   "execution_count": 354,
   "metadata": {},
   "outputs": [
    {
     "data": {
      "text/plain": [
       "3×3 Matrix{Float64}:\n",
       " -3.0  -8.13448e-7  8.46709e-14\n",
       "  0.0  -2.0         7.74448e-7\n",
       "  0.0   0.0         1.0"
      ]
     },
     "execution_count": 354,
     "metadata": {},
     "output_type": "execute_result"
    }
   ],
   "source": [
    "r"
   ]
  },
  {
   "cell_type": "code",
   "execution_count": 355,
   "metadata": {},
   "outputs": [
    {
     "data": {
      "text/plain": [
       "([-0.9999999999999869 1.6268951801407436e-7 -4.1998209129051256e-14; -1.6268951801407976e-7 -0.9999999999999534 2.5814944712919987e-7; 0.0 2.581494471292033e-7 0.9999999999999667], [-2.999999999999803 -8.134475549400279e-7 8.243437471977943e-14; 0.0 -1.9999999999999325 7.744483049402881e-7; 0.0 0.0 1.0000000000001013])"
      ]
     },
     "execution_count": 355,
     "metadata": {},
     "output_type": "execute_result"
    }
   ],
   "source": [
    "q,r = qrConv(hm)"
   ]
  },
  {
   "cell_type": "code",
   "execution_count": 356,
   "metadata": {},
   "outputs": [
    {
     "data": {
      "text/plain": [
       "3×3 Matrix{Float64}:\n",
       " -3.0  -8.13448e-7  8.24344e-14\n",
       "  0.0  -2.0         7.74448e-7\n",
       "  0.0   0.0         1.0"
      ]
     },
     "execution_count": 356,
     "metadata": {},
     "output_type": "execute_result"
    }
   ],
   "source": [
    "r"
   ]
  },
  {
   "cell_type": "code",
   "execution_count": null,
   "metadata": {},
   "outputs": [],
   "source": []
  }
 ],
 "metadata": {
  "kernelspec": {
   "display_name": "Julia 1.6.1",
   "language": "julia",
   "name": "julia-1.6"
  },
  "language_info": {
   "file_extension": ".jl",
   "mimetype": "application/julia",
   "name": "julia",
   "version": "1.6.1"
  }
 },
 "nbformat": 4,
 "nbformat_minor": 2
}
